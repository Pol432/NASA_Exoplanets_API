{
 "cells": [
  {
   "cell_type": "code",
   "execution_count": 93,
   "id": "eaeb5a06-2b45-46ad-b787-9a050f6c5ab8",
   "metadata": {
    "editable": true,
    "slideshow": {
     "slide_type": ""
    },
    "tags": []
   },
   "outputs": [],
   "source": [
    "import pandas\n",
    "import matplotlib.pyplot as pyplot\n",
    "import seaborn\n",
    "from sklearn.model_selection import train_test_split\n",
    "from sklearn import preprocessing\n",
    "from sklearn.multiclass import OneVsOneClassifier\n",
    "from sklearn.svm import LinearSVC\n",
    "from sklearn.metrics import confusion_matrix, accuracy_score, ConfusionMatrixDisplay, classification_report\n",
    "import joblib"
   ]
  },
  {
   "cell_type": "code",
   "execution_count": 94,
   "id": "96066c5a-5271-4052-b019-203a2b3b35c8",
   "metadata": {},
   "outputs": [
    {
     "name": "stdout",
     "output_type": "stream",
     "text": [
      "<class 'pandas.core.frame.DataFrame'>\n",
      "RangeIndex: 9564 entries, 0 to 9563\n",
      "Data columns (total 49 columns):\n",
      " #   Column             Non-Null Count  Dtype  \n",
      "---  ------             --------------  -----  \n",
      " 0   kepid              9564 non-null   int64  \n",
      " 1   kepoi_name         9564 non-null   object \n",
      " 2   kepler_name        2747 non-null   object \n",
      " 3   koi_disposition    9564 non-null   object \n",
      " 4   koi_pdisposition   9564 non-null   object \n",
      " 5   koi_score          8054 non-null   float64\n",
      " 6   koi_fpflag_nt      9564 non-null   int64  \n",
      " 7   koi_fpflag_ss      9564 non-null   int64  \n",
      " 8   koi_fpflag_co      9564 non-null   int64  \n",
      " 9   koi_fpflag_ec      9564 non-null   int64  \n",
      " 10  koi_period         9564 non-null   float64\n",
      " 11  koi_period_err1    9110 non-null   float64\n",
      " 12  koi_period_err2    9110 non-null   float64\n",
      " 13  koi_time0bk        9564 non-null   float64\n",
      " 14  koi_time0bk_err1   9110 non-null   float64\n",
      " 15  koi_time0bk_err2   9110 non-null   float64\n",
      " 16  koi_impact         9201 non-null   float64\n",
      " 17  koi_impact_err1    9110 non-null   float64\n",
      " 18  koi_impact_err2    9110 non-null   float64\n",
      " 19  koi_duration       9564 non-null   float64\n",
      " 20  koi_duration_err1  9110 non-null   float64\n",
      " 21  koi_duration_err2  9110 non-null   float64\n",
      " 22  koi_depth          9201 non-null   float64\n",
      " 23  koi_depth_err1     9110 non-null   float64\n",
      " 24  koi_depth_err2     9110 non-null   float64\n",
      " 25  koi_prad           9201 non-null   float64\n",
      " 26  koi_prad_err1      9201 non-null   float64\n",
      " 27  koi_prad_err2      9201 non-null   float64\n",
      " 28  koi_teq            9201 non-null   float64\n",
      " 29  koi_teq_err1       0 non-null      float64\n",
      " 30  koi_teq_err2       0 non-null      float64\n",
      " 31  koi_insol          9243 non-null   float64\n",
      " 32  koi_insol_err1     9243 non-null   float64\n",
      " 33  koi_insol_err2     9243 non-null   float64\n",
      " 34  koi_model_snr      9201 non-null   float64\n",
      " 35  koi_tce_plnt_num   9218 non-null   float64\n",
      " 36  koi_tce_delivname  9218 non-null   object \n",
      " 37  koi_steff          9201 non-null   float64\n",
      " 38  koi_steff_err1     9096 non-null   float64\n",
      " 39  koi_steff_err2     9081 non-null   float64\n",
      " 40  koi_slogg          9201 non-null   float64\n",
      " 41  koi_slogg_err1     9096 non-null   float64\n",
      " 42  koi_slogg_err2     9096 non-null   float64\n",
      " 43  koi_srad           9201 non-null   float64\n",
      " 44  koi_srad_err1      9096 non-null   float64\n",
      " 45  koi_srad_err2      9096 non-null   float64\n",
      " 46  ra                 9564 non-null   float64\n",
      " 47  dec                9564 non-null   float64\n",
      " 48  koi_kepmag         9563 non-null   float64\n",
      "dtypes: float64(39), int64(5), object(5)\n",
      "memory usage: 3.6+ MB\n"
     ]
    }
   ],
   "source": [
    "data_kepler_df = pandas.read_csv('Data\\Kepler.csv')\n",
    "#data_tess_df = pandas.read_csv('Data\\TESS.csv')\n",
    "#data_k2_df = pandas.read_csv('Data\\K2.csv')\n",
    "\n",
    "data_kepler_df.info()"
   ]
  },
  {
   "cell_type": "code",
   "execution_count": 95,
   "id": "284be758-fa62-4eab-8e77-80f55245bf7e",
   "metadata": {
    "editable": true,
    "slideshow": {
     "slide_type": ""
    },
    "tags": []
   },
   "outputs": [],
   "source": [
    "# Remove unnecessary data\n",
    "data_kepler_df = data_kepler_df.drop(columns=['kepid', 'kepoi_name', 'kepler_name', 'koi_disposition', 'koi_tce_delivname'])\n",
    "# Remove empty data\n",
    "data_kepler_df = data_kepler_df.drop(columns=['koi_teq_err1', 'koi_teq_err2'])"
   ]
  },
  {
   "cell_type": "code",
   "execution_count": 96,
   "id": "28d8819a-75c5-476e-9fe8-b71e8ee911ed",
   "metadata": {
    "scrolled": true
   },
   "outputs": [
    {
     "name": "stdout",
     "output_type": "stream",
     "text": [
      "Count of null values in each column:\n",
      "koi_pdisposition        0\n",
      "koi_score            1510\n",
      "koi_fpflag_nt           0\n",
      "koi_fpflag_ss           0\n",
      "koi_fpflag_co           0\n",
      "koi_fpflag_ec           0\n",
      "koi_period              0\n",
      "koi_period_err1       454\n",
      "koi_period_err2       454\n",
      "koi_time0bk             0\n",
      "koi_time0bk_err1      454\n",
      "koi_time0bk_err2      454\n",
      "koi_impact            363\n",
      "koi_impact_err1       454\n",
      "koi_impact_err2       454\n",
      "koi_duration            0\n",
      "koi_duration_err1     454\n",
      "koi_duration_err2     454\n",
      "koi_depth             363\n",
      "koi_depth_err1        454\n",
      "koi_depth_err2        454\n",
      "koi_prad              363\n",
      "koi_prad_err1         363\n",
      "koi_prad_err2         363\n",
      "koi_teq               363\n",
      "koi_insol             321\n",
      "koi_insol_err1        321\n",
      "koi_insol_err2        321\n",
      "koi_model_snr         363\n",
      "koi_tce_plnt_num      346\n",
      "koi_steff             363\n",
      "koi_steff_err1        468\n",
      "koi_steff_err2        483\n",
      "koi_slogg             363\n",
      "koi_slogg_err1        468\n",
      "koi_slogg_err2        468\n",
      "koi_srad              363\n",
      "koi_srad_err1         468\n",
      "koi_srad_err2         468\n",
      "ra                      0\n",
      "dec                     0\n",
      "koi_kepmag              1\n",
      "dtype: int64\n"
     ]
    }
   ],
   "source": [
    "# Null Values\n",
    "print(\"Count of null values in each column:\")\n",
    "print(data_kepler_df.isna().sum())"
   ]
  },
  {
   "cell_type": "code",
   "execution_count": 97,
   "id": "9dfc2cc0-c3cf-4ea6-9a3d-cd45c138783f",
   "metadata": {},
   "outputs": [
    {
     "name": "stdout",
     "output_type": "stream",
     "text": [
      "Count of total rows: 7803\n"
     ]
    }
   ],
   "source": [
    "data_kepler_df = data_kepler_df.dropna()\n",
    "row_count = len(data_kepler_df)\n",
    "print(\"Count of total rows:\",row_count)"
   ]
  },
  {
   "cell_type": "code",
   "execution_count": 100,
   "id": "4a7cbe59-f601-480e-863a-699a9f58f5ab",
   "metadata": {},
   "outputs": [],
   "source": [
    "variables = data_kepler_df.drop(columns=['koi_pdisposition'])\n",
    "target = data_kepler_df['koi_pdisposition']\n",
    "variables_train, variables_test, target_train, target_test = train_test_split(variables,target,test_size=0.4,random_state=3)"
   ]
  },
  {
   "cell_type": "code",
   "execution_count": 101,
   "id": "799aae76-2dce-4fc5-81a7-33cbff2a78eb",
   "metadata": {
    "editable": true,
    "slideshow": {
     "slide_type": ""
    },
    "tags": []
   },
   "outputs": [],
   "source": [
    "scaler = preprocessing.StandardScaler()\n",
    "scaler.fit(variables_train)\n",
    "variables_st = pandas.DataFrame(scaler.transform(variables), columns = variables.columns)\n",
    "variables_st.index = variables.index\n",
    "variables_train_st = variables_st.loc[variables_train.index]\n",
    "variables_test_st = variables_st.loc[variables_test.index]"
   ]
  },
  {
   "cell_type": "code",
   "execution_count": 102,
   "id": "0b7aa42a-ae39-4293-9ad5-d36c38bfa12b",
   "metadata": {
    "editable": true,
    "slideshow": {
     "slide_type": ""
    },
    "tags": []
   },
   "outputs": [],
   "source": [
    "exoplanet_svm_model = OneVsOneClassifier(LinearSVC(random_state = 1, max_iter = 200))\n",
    "exoplanet_svm_model.fit(variables_train_st, target_train)\n",
    "\n",
    "target_test_prediction = exoplanet_svm_model.predict(variables_test_st)"
   ]
  },
  {
   "cell_type": "code",
   "execution_count": 103,
   "id": "64dde9d5-68e1-4999-beff-c71feef46fb5",
   "metadata": {},
   "outputs": [
    {
     "name": "stdout",
     "output_type": "stream",
     "text": [
      "Accuracy:  97.2773862908392\n"
     ]
    }
   ],
   "source": [
    "accuracy = accuracy_score(target_test,target_test_prediction)*100\n",
    "print(\"Accuracy: \", accuracy)"
   ]
  },
  {
   "cell_type": "code",
   "execution_count": 104,
   "id": "a8fb534c-6212-4147-9015-e140b3736d59",
   "metadata": {},
   "outputs": [
    {
     "data": {
      "text/plain": [
       "<sklearn.metrics._plot.confusion_matrix.ConfusionMatrixDisplay at 0x27992ab09d0>"
      ]
     },
     "execution_count": 104,
     "metadata": {},
     "output_type": "execute_result"
    },
    {
     "data": {
      "image/png": "[encoded data removed]",
      "text/plain": [
       "<Figure size 640x480 with 2 Axes>"
      ]
     },
     "metadata": {},
     "output_type": "display_data"
    }
   ],
   "source": [
    "confusion_mat = confusion_matrix(target_test,target_test_prediction)\n",
    "disp = ConfusionMatrixDisplay(confusion_matrix = confusion_mat)\n",
    "disp.plot()"
   ]
  },
  {
   "cell_type": "code",
   "execution_count": 105,
   "id": "4f2ca936-6948-4d2d-bb2b-b1d48bb648ac",
   "metadata": {},
   "outputs": [
    {
     "name": "stdout",
     "output_type": "stream",
     "text": [
      "                precision    recall  f1-score   support\n",
      "\n",
      "     CANDIDATE       0.98      0.97      0.97      1646\n",
      "FALSE POSITIVE       0.96      0.98      0.97      1476\n",
      "\n",
      "      accuracy                           0.97      3122\n",
      "     macro avg       0.97      0.97      0.97      3122\n",
      "  weighted avg       0.97      0.97      0.97      3122\n",
      "\n"
     ]
    }
   ],
   "source": [
    "print(classification_report(target_test,target_test_prediction))"
   ]
  }
 ],
 "metadata": {
  "kernelspec": {
   "display_name": "Python [conda env:base] *",
   "language": "python",
   "name": "conda-base-py"
  },
  "language_info": {
   "codemirror_mode": {
    "name": "ipython",
    "version": 3
   },
   "file_extension": ".py",
   "mimetype": "text/x-python",
   "name": "python",
   "nbconvert_exporter": "python",
   "pygments_lexer": "ipython3",
   "version": "3.13.5"
  }
 },
 "nbformat": 4,
 "nbformat_minor": 5
}
